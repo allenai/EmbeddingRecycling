{
 "cells": [
  {
   "cell_type": "code",
   "execution_count": 4,
   "metadata": {},
   "outputs": [],
   "source": [
    "import json\n",
    "\n",
    "fp = \"/Users/lucas/Downloads/r3_e2e-2022-09-13_18-23.log\"\n",
    "\n",
    "with open(fp, \"r\") as f:\n",
    "    lines = [json.loads(ln) for ln in f]\n"
   ]
  },
  {
   "cell_type": "code",
   "execution_count": 5,
   "metadata": {},
   "outputs": [
    {
     "name": "stdout",
     "output_type": "stream",
     "text": [
      "{'nreimers/MiniLMv2-L6-H384-distilled-from-BERT-Large_fp16': {'caching_on': 0.06835995035723222, 'caching_off': 0.050786251066613976, 'caching_prefetch': 0.027007407534080246, 'caching_use': 0.02410580116386068}, 'nreimers/MiniLMv2-L6-H384-distilled-from-BERT-Large_fp32': {'caching_on': 0.07619102195415474, 'caching_off': 0.050644269847156774, 'caching_prefetch': 0.02602600891821875, 'caching_use': 0.024717729047544826}, 'nreimers/MiniLMv2-L6-H768-distilled-from-BERT-Large_fp16': {'caching_on': 0.07389322982346716, 'caching_off': 0.0898419180895953, 'caching_prefetch': 0.04531704258233813, 'caching_use': 0.0451325759414799}, 'nreimers/MiniLMv2-L6-H768-distilled-from-BERT-Large_fp32': {'caching_on': 0.10098466569164145, 'caching_off': 0.0898440197573455, 'caching_prefetch': 0.04489953824733477, 'caching_use': 0.04655871143588772}, 'bert-base-uncased_fp16': {'caching_on': 0.06903840490609162, 'caching_off': 0.1735499995470704, 'caching_prefetch': 0.08590737603302782, 'caching_use': 0.08686970482187824}, 'bert-base-uncased_fp32': {'caching_on': 0.10080766565262075, 'caching_off': 0.17353752934524555, 'caching_prefetch': 0.08522921263444427, 'caching_use': 0.08818231338311817}, 'bert-large-uncased_fp16': {'caching_on': 0.16738063807752085}, 'bert-large-uncased_fp32': {'caching_on': 0.18137304363453402}}\n"
     ]
    }
   ],
   "source": [
    "grouped = {}\n",
    "for ln in lines:\n",
    "    backbone = ln['config']['backbone']\n",
    "    precision = 'fp16' if ln['config']['cache']['half_precision'] else 'fp32'\n",
    "    for key, val in ln['report'].items():\n",
    "        if not isinstance(val, float):\n",
    "            continue\n",
    "        grouped.setdefault(f\"{backbone}_{precision}\", {}).setdefault(key, []).append(val)\n",
    "\n",
    "for key, val in grouped.items():\n",
    "    for k, v in val.items():\n",
    "        grouped[key][k] = sum(v) / len(v)\n",
    "\n",
    "print(grouped)"
   ]
  },
  {
   "cell_type": "code",
   "execution_count": 7,
   "metadata": {},
   "outputs": [
    {
     "name": "stdout",
     "output_type": "stream",
     "text": [
      "--- nreimers/MiniLMv2-L6-H384-distilled-from-BERT-Large_fp16 ---\n",
      "no caching: 0.0508\n",
      "storing and caching: 0.0315\n",
      "just caching: 0.0241\n",
      "\n",
      "\n",
      "\n",
      "--- nreimers/MiniLMv2-L6-H384-distilled-from-BERT-Large_fp32 ---\n",
      "no caching: 0.0506\n",
      "storing and caching: 0.0333\n",
      "just caching: 0.0247\n",
      "\n",
      "\n",
      "\n",
      "--- nreimers/MiniLMv2-L6-H768-distilled-from-BERT-Large_fp16 ---\n",
      "no caching: 0.0898\n",
      "storing and caching: 0.0499\n",
      "just caching: 0.0451\n",
      "\n",
      "\n",
      "\n",
      "--- nreimers/MiniLMv2-L6-H768-distilled-from-BERT-Large_fp32 ---\n",
      "no caching: 0.0898\n",
      "storing and caching: 0.0556\n",
      "just caching: 0.0466\n",
      "\n",
      "\n",
      "\n",
      "--- bert-base-uncased_fp16 ---\n",
      "no caching: 0.1735\n",
      "storing and caching: 0.0839\n",
      "just caching: 0.0869\n",
      "\n",
      "\n",
      "\n",
      "--- bert-base-uncased_fp32 ---\n",
      "no caching: 0.1735\n",
      "storing and caching: 0.0903\n",
      "just caching: 0.0882\n",
      "\n",
      "\n",
      "\n"
     ]
    }
   ],
   "source": [
    "NUM_EPOCHS = 6\n",
    "for system, report in grouped.items():\n",
    "    if 'caching_off' not in report:\n",
    "        continue\n",
    "    print(f'--- {system} ---')\n",
    "    no_caching = report['caching_off']\n",
    "    storing_and_caching = (\n",
    "        report['caching_on'] + report['caching_use'] * (NUM_EPOCHS - 1)\n",
    "    ) / NUM_EPOCHS\n",
    "    just_caching = report['caching_use']\n",
    "    print(f\"no caching: {no_caching:.4f}\")\n",
    "    print(f\"storing and caching: {storing_and_caching:.4f}\")\n",
    "    print(f\"just caching: {just_caching:.4f}\")\n",
    "    print('\\n\\n')\n"
   ]
  }
 ],
 "metadata": {
  "kernelspec": {
   "display_name": "Python 3.9.12 ('r3')",
   "language": "python",
   "name": "python3"
  },
  "language_info": {
   "codemirror_mode": {
    "name": "ipython",
    "version": 3
   },
   "file_extension": ".py",
   "mimetype": "text/x-python",
   "name": "python",
   "nbconvert_exporter": "python",
   "pygments_lexer": "ipython3",
   "version": "3.9.12"
  },
  "orig_nbformat": 4,
  "vscode": {
   "interpreter": {
    "hash": "af366d81a191368a348b7f530efa8b41039672c5596eec725690012ec1c3dd95"
   }
  }
 },
 "nbformat": 4,
 "nbformat_minor": 2
}
